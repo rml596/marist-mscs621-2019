{
 "cells": [
  {
   "cell_type": "markdown",
   "metadata": {
    "colab_type": "text",
    "id": "NC0I8xj82CxE"
   },
   "source": [
    "## About this practice \n",
    "\n",
    "This tutorial is a sentiment analysis using embedding technique in the area of natural language processing (NLP). \n",
    "\n",
    "Our goal is to train a neural network to find out whether some text is globally positive or negative (binary decision).\n",
    "\n",
    "The first layer of our neural network will perform an operation called **word embedding**, which is essential in NLP with deep learning. \n",
    "\n",
    "In this post, you will learn: \n",
    "\n",
    "* what is word embedding \n",
    "* how to do word embedding with keras\n",
    "* how to do a simple sentiment analysis\n",
    "* how to visualize the results of word embedding \n",
    "\n",
    "**Prerequisites:**\n",
    "\n",
    "* You don't necessarily know all packages (e.g. keras) to perform this tutoria, but if you would like to know more see this tutorial [deep learning for image recognition with keras](https://thedatafrog.com/deep-learning-keras/)\n",
    "\n",
    "\n",
    "## The IMDB dataset\n",
    "\n",
    "We will work with the IMDB dataset, which contains 25,000 movie reviews from [IMDB](https://www.imdb.com/). Each review is labeled as positive or negative from the rating provided by users together with their reviews. \n",
    "\n",
    "The dataset is distributed with keras. Before loading it in memory, we initialize our tools: "
   ]
  },
  {
   "cell_type": "code",
   "execution_count": 22,
   "metadata": {
    "colab": {},
    "colab_type": "code",
    "id": "kuw-qAIG2CxG"
   },
   "outputs": [],
   "source": [
    "# get reproducible results\n",
    "from numpy.random import seed\n",
    "seed(0xdeadbeef)\n",
    "from tensorflow import set_random_seed\n",
    "set_random_seed(0xdeadbeef)\n",
    "\n",
    "# needed to run on a mac: \n",
    "import os \n",
    "os.environ['KMP_DUPLICATE_LIB_OK'] = 'True'"
   ]
  },
  {
   "cell_type": "code",
   "execution_count": 23,
   "metadata": {
    "colab": {},
    "colab_type": "code",
    "id": "wt0nSTcp2CxJ",
    "outputId": "e56be82b-bf9f-4984-bd7a-56b63d8826a7"
   },
   "outputs": [],
   "source": [
    "import keras\n",
    "imdb = keras.datasets.imdb\n",
    "num_words = 20000\n",
    "(train_data, train_labels), (test_data, test_labels) = imdb.load_data(seed=1, num_words=num_words)"
   ]
  },
  {
   "cell_type": "markdown",
   "metadata": {
    "colab_type": "text",
    "id": "upmSbgt92CxM"
   },
   "source": [
    "The first review looks like this:"
   ]
  },
  {
   "cell_type": "code",
   "execution_count": 24,
   "metadata": {
    "colab": {},
    "colab_type": "code",
    "id": "KIKyp2Wy2CxN",
    "outputId": "beb99084-1e2d-4e10-ecd0-176c52f483f2"
   },
   "outputs": [
    {
     "name": "stdout",
     "output_type": "stream",
     "text": [
      "[1, 13, 28, 1039, 7, 14, 23, 1856, 13, 104, 36, 4, 699, 8060, 144, 297, 14, 175, 291, 18, 4, 375, 1784, 153, 38, 15, 75, 92, 859, 51, 16, 5, 15, 75, 377, 24, 8, 81, 4, 172, 2497, 174, 40, 1489, 49, 84, 11, 4, 2030, 3039, 121, 36, 92, 4881, 14, 20, 2, 9, 40, 6, 2, 621, 18, 148, 37, 191, 1941, 42, 511, 14, 20, 9, 17, 76, 253, 17, 269, 8, 3336, 4, 2, 8, 1278, 6, 543, 2647, 10, 10, 308, 3102, 2, 47, 43, 188, 46, 7, 1172, 5, 240, 2854, 145, 8, 4, 154, 3243, 11, 4819, 58, 18, 35, 32, 8, 327, 823, 7, 7350, 7, 265, 308, 1828, 145, 1646, 4, 154, 890, 5, 9, 14412, 34, 362, 2515, 154, 1914, 5, 27, 15227, 2, 17, 36, 837, 5, 1941, 32, 367, 4, 96, 10, 10, 13, 62, 386, 14, 48, 13, 16, 3178, 42, 48, 11, 882, 294, 16, 3412, 2, 4360, 2, 34, 6, 1042, 18, 2, 345, 96, 14, 9, 6, 862, 526, 3757, 917, 5, 60, 1055, 13, 115, 197, 474, 1829, 15, 2006, 7, 6791, 113, 19, 4, 2, 261, 13, 104, 4, 1653, 173, 7, 4, 65, 143, 4, 3801, 1366, 548, 844, 5, 4, 837, 1396, 27, 369, 459, 44, 68, 4731, 5, 181, 8, 607, 4, 6791, 39, 112, 3067, 180, 5, 11037, 56, 10, 10, 859, 7552, 10141, 4386, 100, 28, 1199, 35, 735, 18, 15, 11, 2096, 8, 14, 3644, 449, 73, 48, 25, 169, 624, 1786, 8, 462, 624, 710, 5, 289, 9800, 2942, 30, 252, 8, 3163, 86, 10, 10, 5, 591, 106, 2, 57, 381, 128, 1996, 375, 58]\n",
      "label: 0\n"
     ]
    }
   ],
   "source": [
    "print(train_data[0])\n",
    "print('label:', train_labels[0])"
   ]
  },
  {
   "cell_type": "markdown",
   "metadata": {
    "colab_type": "text",
    "id": "Y3_48AZy2CxP"
   },
   "source": [
    "We see that the text of the review has been encoded as a sequence of integers.\n",
    "\n",
    "Each word in the text is represented as an integer. A dictionary called the **vocabulary** links each word to a unique integer. In the example above, we see that the integer 4 is repeated many times. This integer corresponds to a very frequent word. And actually, the more frequent a word, the lower the integer.    \n",
    "\n",
    "To decode the review, we need to make use of the vocabulary:"
   ]
  },
  {
   "cell_type": "code",
   "execution_count": 25,
   "metadata": {
    "colab": {},
    "colab_type": "code",
    "id": "hYRqht092CxQ"
   },
   "outputs": [],
   "source": [
    "# A dictionary mapping words to an integer index\n",
    "vocabulary = imdb.get_word_index()\n",
    "\n",
    "# The first indices are reserved\n",
    "vocabulary = {k:(v+3) for k,v in vocabulary.items()} \n",
    "vocabulary[\"<PAD>\"] = 0\n",
    "# See how integer 1 appears first in the review above. \n",
    "vocabulary[\"<START>\"] = 1\n",
    "vocabulary[\"<UNK>\"] = 2  # unknown\n",
    "vocabulary[\"<UNUSED>\"] = 3\n",
    "\n",
    "# reversing the vocabulary. \n",
    "# in the index, the key is an integer, \n",
    "# and the value is the corresponding word.\n",
    "index = dict([(value, key) for (key, value) in vocabulary.items()])\n",
    "\n",
    "def decode_review(text):\n",
    "    '''converts encoded text to human readable form.\n",
    "    each integer in the text is looked up in the index, and \n",
    "    replaced by the corresponding word.\n",
    "    '''\n",
    "    return ' '.join([index.get(i, '?') for i in text])\n"
   ]
  },
  {
   "cell_type": "code",
   "execution_count": 26,
   "metadata": {
    "colab": {},
    "colab_type": "code",
    "id": "HpkDifBT2CxS",
    "outputId": "5fae9534-c914-4682-f9d1-cb2a4ec88c10"
   },
   "outputs": [
    {
     "data": {
      "text/plain": [
       "\"<START> i have copy of this on vhs i think they the television networks should play this every year for the next twenty years so that we don't forget what was and that we remember not to do the same mistakes again like putting some people in the director's chair where they don't belong this movie <UNK> is like a <UNK> musical for those who can't sing or act this movie is as much fun as trying to teach the <UNK> to drive a city bus br br john hood <UNK> has just got out of prison and he's headed back to the old neighborhood in serving time for an all to nice crime of necessity of course john heads back onto the old street and is greeted by kids dogs old ladies and his peer <UNK> as they dance and sing all along the way br br i would recommend this if i was sentimental or if in truth someone was smoking <UNK> pot <UNK> by a doctor for <UNK> either way this is a poorly directed scripted acted and even produced i never thought i'd sat that satire of ghetto life with the <UNK> although i think the redeeming part of the story through the wannabe gang fight sequences and the dance numbers his friends care about their neighbors and want to save the ghetto from being torn down and cleaned up br br forget sonny spoon mario could have won an oscar for that in comparison to this rap oh well if you find yourself wanting to laugh yourself silly and three quarters embarrassed be sure to drink first br br and please watch <UNK> no stars better luck next time\""
      ]
     },
     "execution_count": 26,
     "metadata": {},
     "output_type": "execute_result"
    }
   ],
   "source": [
    "decode_review(train_data[0])"
   ]
  },
  {
   "cell_type": "markdown",
   "metadata": {
    "colab_type": "text",
    "id": "7RaJjnlF2CxU"
   },
   "source": [
    "We see that integer 4 indeed corresponds to a very frequent word, \"the\". Now what do we do with this dataset? We can see two issues if we are to use it as input to a neural network:\n",
    "\n",
    "* The reviews have a variable number of words, while the network has a fixed number of neurons.\n",
    "* The words are completely independent. For example, \"brilliant\" and \"awesome\" correspond to two different integers, and the neural network does not know a priori that these two adjectives have similar meaning. \n",
    "\n",
    "Let's deal with the first issue. To get a fixed length input, we can simply truncate the reviews to a fixed number of words, say 256. For reviews that have more than 256 words, we will keep only the first 256 words. For shorter reviews, we will fill the unused word slots with zeros. With keras, this is easy to do:"
   ]
  },
  {
   "cell_type": "code",
   "execution_count": 27,
   "metadata": {
    "colab": {},
    "colab_type": "code",
    "id": "DvVwLuqS9eYJ"
   },
   "outputs": [],
   "source": [
    "train_data = keras.preprocessing.sequence.pad_sequences(train_data,\n",
    "                                                        value=vocabulary[\"<PAD>\"],\n",
    "                                                        padding='post',\n",
    "                                                        maxlen=256)\n",
    "\n",
    "test_data = keras.preprocessing.sequence.pad_sequences(test_data,\n",
    "                                                       value=vocabulary[\"<PAD>\"],\n",
    "                                                       padding='post',\n",
    "                                                       maxlen=256)"
   ]
  },
  {
   "cell_type": "code",
   "execution_count": 28,
   "metadata": {
    "colab": {},
    "colab_type": "code",
    "id": "deVw7Yp72CxX",
    "outputId": "f3f50bd3-79d8-48b8-a4ee-b834c905e6aa"
   },
   "outputs": [
    {
     "data": {
      "text/plain": [
       "array([    1,   103,   450,   576,    73,  2896,     8,     4,   213,\n",
       "           7,   897,    13,    16,   576,  3521,    19,     4,    22,\n",
       "           4,    22,    16,   465,   728,     4,  2563,     4,  1460,\n",
       "           4,  3237,     5,     6,    55,   576,  1078,  2734,    10,\n",
       "          10,    13,    69,  2721,   873,     8,    67,   111,   318,\n",
       "         302,     5,    40,     6, 13892,     2,    12,  4280,    72,\n",
       "         245,    19,     4,  4211,     5,     4,     2,     7,    12,\n",
       "        1620,    13,   244,   174,  2654,   245,    19,   129,  7102,\n",
       "          19,     4,   979,     7,     4,    65,     5,   129,   459,\n",
       "           7,     4,   318,   302,    25,    80,   140,     6,   196,\n",
       "          96,    61,   464,    13,    80,   407,    30,     4,  2217,\n",
       "           7,   129,   337,  1333,    10,    10,  2127,     2,     4,\n",
       "         118,   284,  1344,    16,     4,   612,    31,  1099,    25,\n",
       "          93,  1792,  7606,   168,    40,     6,   506,  1079,     8,\n",
       "           2,    10,    10,   444,     4,   116,    65,   347,     4,\n",
       "         312,   489,  1423,     5,  1190,   302,    12,    16,   777,\n",
       "          13,    43,   657,    12,    71,  1207,    13,   244,   267,\n",
       "         930,     8,     4,     2,    19,   576,   312,  1398,     0,\n",
       "           0,     0,     0,     0,     0,     0,     0,     0,     0,\n",
       "           0,     0,     0,     0,     0,     0,     0,     0,     0,\n",
       "           0,     0,     0,     0,     0,     0,     0,     0,     0,\n",
       "           0,     0,     0,     0,     0,     0,     0,     0,     0,\n",
       "           0,     0,     0,     0,     0,     0,     0,     0,     0,\n",
       "           0,     0,     0,     0,     0,     0,     0,     0,     0,\n",
       "           0,     0,     0,     0,     0,     0,     0,     0,     0,\n",
       "           0,     0,     0,     0,     0,     0,     0,     0,     0,\n",
       "           0,     0,     0,     0,     0,     0,     0,     0,     0,\n",
       "           0,     0,     0,     0,     0,     0,     0,     0,     0,\n",
       "           0,     0,     0,     0], dtype=int32)"
      ]
     },
     "execution_count": 28,
     "metadata": {},
     "output_type": "execute_result"
    }
   ],
   "source": [
    "train_data[1]"
   ]
  },
  {
   "cell_type": "markdown",
   "metadata": {
    "colab_type": "text",
    "id": "DhKqMtSN2CxZ"
   },
   "source": [
    "The first issue is solved: Our reviews are now of fixed length. The second issue is addressed below. \n",
    "\n",
    "## Embedding: Why is it Needed? \n",
    "\n",
    "In this section, we will see why a standard dense neural network is by essence unable to deal with this dataset.\n",
    "\n",
    "Neural networks are simply a function of their inputs. In the 1-neuron network (or logistic regression), this function is \n",
    "\n",
    "$$ f( \\{ x_i \\} ) = \\sigma (z)$$\n",
    "\n",
    "where $\\sigma$ is the sigmoid function and where the weighted input $z$ of the only neuron is computed as \n",
    "\n",
    "$$z= b+ \\sum_{i} w_i x_i$$ \n",
    "\n",
    "In this expression, the sum runs over all input variables $x_i$, and $b$ is the bias of the neuron. When the network is trained, the network parameters (the biases and weights) are tuned for best performance. \n",
    "\n",
    "Now what would happen if we tried to classify our reviews as either positive or negative with a logistic regression?\n",
    "\n",
    "The input variables would be the 256 integers in the review array. Let us assume a positive weight $w_i$ for variable i. Since the sigmoid function increases monotonically, when variable $i$ increases, the output of the network, which is the probability for the review to be positive, increases.\n",
    "\n",
    "But there is no reason for variable $i$ to be correlated in any way to the probability for the review to be positive! \n",
    "\n",
    "For example, variable $i$ could be 27 (corresponding to the word \"bad\"), 118 (\"good\"), or 1562 (\"awful\"). The review does not look more positive when the integer gets bigger. \n",
    "In other words, the actual value of the integer code for a given word does not carry any information by itself on the quality of the review. This value is arbitrary, and would be different with another encoding algorithm. \n",
    "\n",
    "Clearly, a logistic regression would not be of any use in classifying our reviews.\n",
    "\n",
    "Maybe the logistic regression is too simple, and a more complex dense network would help? \n",
    "\n",
    "Actually, that's not the case. Indeed, in a dense network with hidden layers, each of the neurons in the first hidden layer behaves as the single neuron of the logistic regression. So more complex dense networks suffer from the same problems as the simple logistic regression. \n",
    "\n",
    "\n",
    "## Simple sentiment analysis with embedding\n",
    "\n",
    "Embedding is a way to extract the meaning of a word. In the embedding process, each word (or more precisely, each integer corresponding to a word) is translated to a vector in N-dimensional space. \n",
    "\n",
    "That does sound complicated! but it's not.  \n",
    "\n",
    "To understand better, we're going to perform the embedding in two dimensions only. Each word is then going to be converted to a vector with two coordinates $(x,y)$, and these coordinates can be represented as a point in a plane. \n",
    "\n",
    "As you will see below, the text of a review will appear as an ensemble of points, and the points with similar meaning will be grouped together. Looking at the distribution of the points in 2D, the neural network will be able to predict whether the review is positive or negative. "
   ]
  },
  {
   "cell_type": "code",
   "execution_count": 29,
   "metadata": {
    "colab": {
     "base_uri": "https://localhost:8080/",
     "height": 238
    },
    "colab_type": "code",
    "id": "sSWWjB8y9eYN",
    "outputId": "ee179070-84cc-4f03-9c69-b890e4548703"
   },
   "outputs": [
    {
     "name": "stdout",
     "output_type": "stream",
     "text": [
      "_________________________________________________________________\n",
      "Layer (type)                 Output Shape              Param #   \n",
      "=================================================================\n",
      "embedding_2 (Embedding)      (None, 256, 2)            177176    \n",
      "_________________________________________________________________\n",
      "flatten_2 (Flatten)          (None, 512)               0         \n",
      "_________________________________________________________________\n",
      "dropout_2 (Dropout)          (None, 512)               0         \n",
      "_________________________________________________________________\n",
      "dense_3 (Dense)              (None, 5)                 2565      \n",
      "_________________________________________________________________\n",
      "dense_4 (Dense)              (None, 1)                 6         \n",
      "=================================================================\n",
      "Total params: 179,747\n",
      "Trainable params: 179,747\n",
      "Non-trainable params: 0\n",
      "_________________________________________________________________\n"
     ]
    }
   ],
   "source": [
    "\n",
    "model = keras.Sequential()\n",
    "\n",
    "# the first layer is the embedding layer. \n",
    "# we indicate the number of possible words, \n",
    "# the dimension of the embedding space, \n",
    "# and the maximum size of the text. \n",
    "model.add(keras.layers.Embedding(len(vocabulary), 2, input_length=256))\n",
    "\n",
    "# the output of the embedding is multidimensional, \n",
    "# with shape (256, 2)\n",
    "# for each word, we obtain two values, \n",
    "# the x and y coordinates\n",
    "# we flatten this output to be able to \n",
    "# use it in a dense layer\n",
    "model.add(keras.layers.Flatten())\n",
    "\n",
    "# dropout regularization\n",
    "model.add(keras.layers.Dropout(rate=0.5))\n",
    "\n",
    "# small dense layer. It's role is to analyze \n",
    "# the distribution of points from embedding\n",
    "model.add(keras.layers.Dense(5))\n",
    "\n",
    "# final neuron, with sigmoid activation \n",
    "# for binary classification\n",
    "model.add(keras.layers.Dense(1, activation='sigmoid'))\n",
    "\n",
    "model.summary()\n"
   ]
  },
  {
   "cell_type": "markdown",
   "metadata": {
    "colab_type": "text",
    "id": "V9HbV8YA2Cxc"
   },
   "source": [
    "As you can see, it is enough to add an embedding layer to our neural network to perform embedding. And it could be a bit surprising to see that we only have to provide three arguments to construct the embedding layer: the length of the vocabulary, the number of dimensions in the embedding space, and the number of words in the input text. \n",
    "\n",
    "In the summary printout just above, we see that the embedding layer represents 177176 parameters. At first, these parameters are random, and the embedding is just meaningless. During the training, these parameters are tuned and the network becomes more and more capable to extract the meaning of the words.\n",
    "\n",
    "Now that the model is ready, we compile it and we train it. There is no need for a GPU here, as the training will be quite fast even on a CPU."
   ]
  },
  {
   "cell_type": "code",
   "execution_count": 30,
   "metadata": {
    "colab": {},
    "colab_type": "code",
    "id": "MCJVQ9Lz9eYQ"
   },
   "outputs": [],
   "source": [
    "model.compile(optimizer='adam',\n",
    "              loss='binary_crossentropy',\n",
    "              metrics=['accuracy'])\n"
   ]
  },
  {
   "cell_type": "code",
   "execution_count": 31,
   "metadata": {
    "colab": {
     "base_uri": "https://localhost:8080/",
     "height": 272
    },
    "colab_type": "code",
    "id": "Jk6s-DH79eYT",
    "outputId": "7511ec7b-5c3d-4e9d-9cd7-447b364c74de"
   },
   "outputs": [
    {
     "name": "stdout",
     "output_type": "stream",
     "text": [
      "Train on 25000 samples, validate on 25000 samples\n",
      "Epoch 1/5\n",
      "25000/25000 [==============================] - 32s 1ms/step - loss: 0.6798 - acc: 0.5607 - val_loss: 0.5989 - val_acc: 0.7509\n",
      "Epoch 2/5\n",
      "25000/25000 [==============================] - 29s 1ms/step - loss: 0.4210 - acc: 0.8212 - val_loss: 0.3342 - val_acc: 0.8660\n",
      "Epoch 3/5\n",
      "25000/25000 [==============================] - 45s 2ms/step - loss: 0.2901 - acc: 0.8825 - val_loss: 0.2935 - val_acc: 0.8806\n",
      "Epoch 4/5\n",
      "25000/25000 [==============================] - 34s 1ms/step - loss: 0.2387 - acc: 0.9040 - val_loss: 0.2855 - val_acc: 0.8821\n",
      "Epoch 5/5\n",
      "25000/25000 [==============================] - 33s 1ms/step - loss: 0.2123 - acc: 0.9154 - val_loss: 0.2898 - val_acc: 0.8800\n"
     ]
    }
   ],
   "source": [
    "history = model.fit(train_data,\n",
    "                    train_labels,\n",
    "                    epochs=5,\n",
    "                    batch_size=100,\n",
    "                    validation_data=(test_data, test_labels),\n",
    "                    verbose=1)"
   ]
  },
  {
   "cell_type": "markdown",
   "metadata": {
    "colab_type": "text",
    "id": "-9jYbjXw2Cxg"
   },
   "source": [
    "We can now look at the evolution of the training and testing accuracies as a function of time, with this small function: "
   ]
  },
  {
   "cell_type": "code",
   "execution_count": 32,
   "metadata": {
    "colab": {},
    "colab_type": "code",
    "id": "9KgxTqON2Cxh"
   },
   "outputs": [],
   "source": [
    "import matplotlib.pyplot as plt\n",
    "def plot_accuracy(history, miny=None):\n",
    "  acc = history.history['acc']\n",
    "  test_acc = history.history['val_acc']\n",
    "  epochs = range(len(acc))\n",
    "  plt.plot(epochs, acc)\n",
    "  plt.plot(epochs, test_acc)\n",
    "  if miny:\n",
    "    plt.ylim(miny, 1.0)\n",
    "  plt.title('accuracy') \n",
    "  plt.xlabel('epoch')\n",
    "  plt.figure()"
   ]
  },
  {
   "cell_type": "code",
   "execution_count": 33,
   "metadata": {
    "colab": {
     "base_uri": "https://localhost:8080/",
     "height": 379
    },
    "colab_type": "code",
    "id": "NuN6jDpv913n",
    "outputId": "adc6c991-faf9-49e0-d9b6-f9d4aeb3e39e",
    "scrolled": true
   },
   "outputs": [
    {
     "data": {
      "image/png": "[encoded data removed]",
      "text/plain": [
       "<Figure size 432x288 with 1 Axes>"
      ]
     },
     "metadata": {
      "needs_background": "light"
     },
     "output_type": "display_data"
    },
    {
     "data": {
      "text/plain": [
       "<Figure size 432x288 with 0 Axes>"
      ]
     },
     "metadata": {},
     "output_type": "display_data"
    }
   ],
   "source": [
    "plot_accuracy(history)"
   ]
  },
  {
   "cell_type": "markdown",
   "metadata": {
    "colab_type": "text",
    "id": "rnSuhT2q2Cxl"
   },
   "source": [
    "We are able to reach a classification accuracy over 85%. The training accuracy continuously increases while the training accuracy plateaus after the second epoch. This means that we [overfit](https://thedatafrog.com/overfitting-illustrated/). But in this post, that's none of our concern: we only want to understand  what is embedding. \n",
    "\n",
    "## Visualizing embedding\n",
    "\n",
    "To investigate embedding, we create a function that provides the output of the embedding layer for a given input:"
   ]
  },
  {
   "cell_type": "code",
   "execution_count": 34,
   "metadata": {
    "colab": {},
    "colab_type": "code",
    "id": "hEpjKFRD93fl"
   },
   "outputs": [],
   "source": [
    "# with a Sequential model\n",
    "get_embed_out = keras.backend.function(\n",
    "    [model.layers[0].input],\n",
    "    [model.layers[1].output])"
   ]
  },
  {
   "cell_type": "markdown",
   "metadata": {
    "colab_type": "text",
    "id": "ACg7uyUm2Cxn"
   },
   "source": [
    "Then, we use this function to get the distribution of points from the embedding of the first review in the validation sample: "
   ]
  },
  {
   "cell_type": "code",
   "execution_count": 35,
   "metadata": {
    "colab": {},
    "colab_type": "code",
    "id": "NqhGQlaM2Cxn",
    "outputId": "54233b84-4189-4138-d243-1d23a1ac769d",
    "scrolled": true
   },
   "outputs": [
    {
     "name": "stdout",
     "output_type": "stream",
     "text": [
      "<class 'list'> 1 (256, 2)\n"
     ]
    }
   ],
   "source": [
    "layer_output = get_embed_out([test_data[0]])\n",
    "print(type(layer_output), len(layer_output), layer_output[0].shape)"
   ]
  },
  {
   "cell_type": "markdown",
   "metadata": {
    "colab_type": "text",
    "id": "DBRoszHI2Cxq"
   },
   "source": [
    "We see that layer_output is a list with a single element containing the array of embedded words. So let's get this array and plot it: "
   ]
  },
  {
   "cell_type": "code",
   "execution_count": 36,
   "metadata": {
    "colab": {},
    "colab_type": "code",
    "id": "JDs2oVY62Cxq",
    "outputId": "fc000cc1-ad60-431f-d061-a2ee53b19507"
   },
   "outputs": [
    {
     "data": {
      "text/plain": [
       "<matplotlib.collections.PathCollection at 0x7f1c788c8da0>"
      ]
     },
     "execution_count": 36,
     "metadata": {},
     "output_type": "execute_result"
    },
    {
     "data": {
      "image/png": "[encoded data removed]",
      "text/plain": [
       "<Figure size 432x288 with 1 Axes>"
      ]
     },
     "metadata": {
      "needs_background": "light"
     },
     "output_type": "display_data"
    }
   ],
   "source": [
    "words = layer_output[0]\n",
    "plt.scatter(words[:,0], words[:,1])"
   ]
  },
  {
   "cell_type": "markdown",
   "metadata": {
    "colab_type": "text",
    "id": "6q2Feomn2Cxs"
   },
   "source": [
    "We see that the distribution of embedded words for this review has an elongated shape. But what does it mean? \n",
    "\n",
    "Let's create our own review, encode it, and embed it to see what happens: "
   ]
  },
  {
   "cell_type": "code",
   "execution_count": 37,
   "metadata": {
    "colab": {},
    "colab_type": "code",
    "id": "8vfgUtRS2Cxt",
    "outputId": "8fa6a119-45eb-4447-d869-974f2c1e08f9"
   },
   "outputs": [
    {
     "data": {
      "text/plain": [
       "[87, 530, 595, 78, 777, 20, 3272]"
      ]
     },
     "execution_count": 37,
     "metadata": {},
     "output_type": "execute_result"
    }
   ],
   "source": [
    "review = ['great', 'brilliant','crap','bad', \n",
    "          'fantastic', 'movie', 'seagal']\n",
    "enc_review = [vocabulary[word] for word in review]\n",
    "enc_review"
   ]
  },
  {
   "cell_type": "code",
   "execution_count": 38,
   "metadata": {
    "colab": {},
    "colab_type": "code",
    "id": "ln8dwkJ-2Cxv"
   },
   "outputs": [],
   "source": [
    "words = get_embed_out([enc_review])[0]"
   ]
  },
  {
   "cell_type": "code",
   "execution_count": 18,
   "metadata": {
    "colab": {},
    "colab_type": "code",
    "id": "5FWlRj9B2Cxy",
    "outputId": "b98c124a-8671-465a-a924-3eb4e3411e9c"
   },
   "outputs": [
    {
     "data": {
      "image/png": "[encoded data removed]",
      "text/plain": [
       "<Figure size 432x288 with 1 Axes>"
      ]
     },
     "metadata": {
      "needs_background": "light"
     },
     "output_type": "display_data"
    }
   ],
   "source": [
    "plt.scatter(words[:,0], words[:,1])\n",
    "for i, txt in enumerate(review):\n",
    "    plt.annotate(txt, (words[i,0], words[i,1]))"
   ]
  },
  {
   "cell_type": "markdown",
   "metadata": {
    "colab_type": "text",
    "id": "98bzZGZi2Cx1"
   },
   "source": [
    "We see that words with a similar meaning are indeed grouped together. There is one group with \"great\", \"brilliant\", \"fantastic\". This area of the plane contains the words that carry a positive meaning. On the other side, we have \"bad\", \"crap\", and ... \"seagal\". It seems that hiring Steven Seagal for your movie guarantees bad reviews on IMDB! \n",
    "\n",
    "The word \"movie\", finally, does not carry much meaning about the quality of the review, and ends up in the middle.\n",
    "\n",
    "I found a bad actor, that's easy, especially with Steven around. Can you find a good one?  \n",
    "\n",
    "Now let's plot the distribution of points for a few reviews with the following function: "
   ]
  },
  {
   "cell_type": "code",
   "execution_count": 19,
   "metadata": {
    "colab": {},
    "colab_type": "code",
    "id": "Fz8nfEdY2Cx1"
   },
   "outputs": [],
   "source": [
    "import math\n",
    "def plot_review(i):\n",
    "    # plot the distribution of points\n",
    "    enc_words = test_data[i]\n",
    "    emb_words = get_embed_out([enc_words])[0]\n",
    "    plt.figure(figsize=(8,8))\n",
    "    plt.scatter(emb_words[:,0], emb_words[:,1])\n",
    "    # use the label as title: 1 is positive, \n",
    "    # 0 is negative\n",
    "    plt.title(test_labels[i])\n",
    "    # for words that are far enough from (0,0), \n",
    "    # print the word\n",
    "    for i, (enc_word, emb_word) in enumerate(zip(enc_words, emb_words)):\n",
    "        word = index[enc_word]\n",
    "        x, y = emb_word\n",
    "        if math.sqrt(x**2 + y**2)>0.2: \n",
    "            plt.annotate(word, (x, y))\n",
    "    # fix the range in x and y to be able to compare\n",
    "    # the distributions of different reviews\n",
    "    axes = plt.gca()\n",
    "    axes.set_xlim([-0.5,0.5])\n",
    "    axes.set_ylim([-0.5, 0.5])\n",
    "    axes.set_aspect('equal', adjustable='box')"
   ]
  },
  {
   "cell_type": "code",
   "execution_count": 20,
   "metadata": {
    "colab": {},
    "colab_type": "code",
    "id": "N2JZqHNX2Cx6",
    "outputId": "1ffff22f-647e-497f-f96b-d81b41ef71e8"
   },
   "outputs": [
    {
     "data": {
      "image/png": "[encoded data removed]",
      "text/plain": [
       "<Figure size 576x576 with 1 Axes>"
      ]
     },
     "metadata": {
      "needs_background": "light"
     },
     "output_type": "display_data"
    }
   ],
   "source": [
    "plot_review(15)"
   ]
  },
  {
   "cell_type": "code",
   "execution_count": 86,
   "metadata": {
    "colab": {},
    "colab_type": "code",
    "id": "1cTns_Ke2Cx8",
    "outputId": "20334348-5d4c-4bb3-fef6-bd1c65a7da81",
    "scrolled": false
   },
   "outputs": [
    {
     "data": {
      "image/png": "[encoded data removed]",
      "text/plain": [
       "<Figure size 576x576 with 1 Axes>"
      ]
     },
     "metadata": {
      "needs_background": "light"
     },
     "output_type": "display_data"
    }
   ],
   "source": [
    "plot_review(17)"
   ]
  },
  {
   "cell_type": "markdown",
   "metadata": {
    "colab_type": "text",
    "id": "6v36aLI52Cx-"
   },
   "source": [
    "You can plot a few more reviews if you wish, by changing the review index in the commands above. \n",
    "\n",
    "We see that positive reviews tend to have words with a meaning similar to \"great\", \"brilliant\", and \"fantastic\", while negative reviews tend to have words with a meaning similar to \"seagal\"."
   ]
  },
  {
   "cell_type": "markdown",
   "metadata": {
    "colab_type": "text",
    "id": "Co0Htuul2Cx-"
   },
   "source": [
    "The goal of the dense layer in our network is to summarize the information in the whole distribution of points for each review. "
   ]
  },
  {
   "cell_type": "markdown",
   "metadata": {},
   "source": [
    "## Predict Your Review (Submission)"
   ]
  },
  {
   "cell_type": "markdown",
   "metadata": {},
   "source": [
    "Now we would like to test the model we trained above. We will do the following:\n",
    "\n",
    "- Get a review for any movie you like (potentially your own review or imdb review)\n",
    "- Create a vector with the correct size\n",
    "- Predict the sentiment as 0 (bad) - 1.0 (good)"
   ]
  },
  {
   "cell_type": "code",
   "execution_count": null,
   "metadata": {},
   "outputs": [],
   "source": [
    "from numpy import array"
   ]
  },
  {
   "cell_type": "code",
   "execution_count": null,
   "metadata": {},
   "outputs": [],
   "source": [
    "my_review = \"This movie is a gosh darn masterpiece. It will make you belly laugh, it will chill you to the bone, and it will make you shed a tear. This movie will stay with you long after the credits are over\""
   ]
  },
  {
   "cell_type": "code",
   "execution_count": 131,
   "metadata": {},
   "outputs": [],
   "source": [
    "# words to vector (only consider words in vocabulary)\n",
    "words = [w.strip() for w in my_review.split()]\n",
    "my_review_vec = []\n",
    "for w in words:\n",
    "    try:\n",
    "        my_review_vec.append(vocabulary[w])\n",
    "    except:\n",
    "        pass\n",
    "\n",
    "# size = (256,)\n",
    "my_review_vec += [0] * (256 - len(my_review_vec))\n",
    "my_review_vec = array([my_review_vec])"
   ]
  },
  {
   "cell_type": "code",
   "execution_count": 132,
   "metadata": {},
   "outputs": [
    {
     "name": "stdout",
     "output_type": "stream",
     "text": [
      "[[0.49760658]]\n"
     ]
    }
   ],
   "source": [
    "# predict the sentiment for the review\n",
    "# 0 means 'bad' and 1.0 means good\n",
    "output = model.predict(my_review_vec)\n",
    "print(output)"
   ]
  },
  {
   "cell_type": "code",
   "execution_count": null,
   "metadata": {},
   "outputs": [],
   "source": []
  }
 ],
 "metadata": {
  "accelerator": "GPU",
  "colab": {
   "collapsed_sections": [],
   "name": "embedding2.ipynb",
   "provenance": []
  },
  "kernelspec": {
   "display_name": "Python 3.6",
   "language": "python",
   "name": "python3"
  },
  "language_info": {
   "codemirror_mode": {
    "name": "ipython",
    "version": 3
   },
   "file_extension": ".py",
   "mimetype": "text/x-python",
   "name": "python",
   "nbconvert_exporter": "python",
   "pygments_lexer": "ipython3",
   "version": "3.6.8"
  }
 },
 "nbformat": 4,
 "nbformat_minor": 1
}
